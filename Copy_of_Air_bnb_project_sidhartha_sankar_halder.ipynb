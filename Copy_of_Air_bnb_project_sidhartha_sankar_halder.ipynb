{
  "nbformat": 4,
  "nbformat_minor": 0,
  "metadata": {
    "colab": {
      "private_outputs": true,
      "provenance": [],
      "collapsed_sections": [
        "vncDsAP0Gaoa",
        "FJNUwmbgGyua",
        "w6K7xa23Elo4",
        "yQaldy8SH6Dl",
        "PH-0ReGfmX4f",
        "mDgbUHAGgjLW",
        "O_i_v8NEhb9l",
        "HhfV-JJviCcP",
        "Y3lxredqlCYt",
        "3RnN4peoiCZX",
        "x71ZqKXriCWQ",
        "7hBIi_osiCS2",
        "JlHwYmJAmNHm",
        "35m5QtbWiB9F",
        "PoPl-ycgm1ru",
        "H0kj-8xxnORC",
        "nA9Y7ga8ng1Z",
        "PBTbrJXOngz2",
        "u3PMJOP6ngxN",
        "dauF4eBmngu3",
        "bKJF3rekwFvQ",
        "MSa1f5Uengrz",
        "GF8Ens_Soomf",
        "0wOQAZs5pc--",
        "K5QZ13OEpz2H",
        "lQ7QKXXCp7Bj",
        "448CDAPjqfQr",
        "KSlN3yHqYklG",
        "t6dVpIINYklI",
        "ijmpgYnKYklI",
        "-JiQyfWJYklI",
        "EM7whBJCYoAo",
        "fge-S5ZAYoAp",
        "85gYPyotYoAp",
        "RoGjAbkUYoAp",
        "4Of9eVA-YrdM",
        "iky9q4vBYrdO",
        "F6T5p64dYrdO",
        "y-Ehk30pYrdP",
        "bamQiAODYuh1",
        "QHF8YVU7Yuh3",
        "GwzvFGzlYuh3",
        "qYpmQ266Yuh3",
        "OH-pJp9IphqM",
        "bbFf2-_FphqN",
        "_ouA3fa0phqN",
        "Seke61FWphqN",
        "PIIx-8_IphqN",
        "t27r6nlMphqO",
        "r2jJGEOYphqO",
        "b0JNsNcRphqO",
        "BZR9WyysphqO",
        "jj7wYXLtphqO",
        "eZrbJ2SmphqO",
        "rFu4xreNphqO",
        "YJ55k-q6phqO",
        "gCFgpxoyphqP",
        "OVtJsKN_phqQ",
        "lssrdh5qphqQ",
        "U2RJ9gkRphqQ",
        "1M8mcRywphqQ",
        "tgIPom80phqQ",
        "JMzcOPDDphqR",
        "x-EpHcCOp1ci",
        "X_VqEhTip1ck",
        "8zGJKyg5p1ck",
        "PVzmfK_Ep1ck",
        "n3dbpmDWp1ck",
        "ylSl6qgtp1ck",
        "ZWILFDl5p1ck",
        "M7G43BXep1ck",
        "Ag9LCva-p1cl",
        "E6MkPsBcp1cl",
        "2cELzS2fp1cl",
        "3MPXvC8up1cl",
        "NC_X3p0fY2L0",
        "UV0SzAkaZNRQ",
        "YPEH6qLeZNRQ",
        "q29F0dvdveiT",
        "EXh0U9oCveiU",
        "22aHeOlLveiV",
        "JcMwzZxoAimU",
        "8G2x9gOozGDZ",
        "gCX9965dhzqZ",
        "gIfDvo9L0UH2"
      ],
      "include_colab_link": true
    },
    "kernelspec": {
      "name": "python3",
      "display_name": "Python 3"
    },
    "language_info": {
      "name": "python"
    }
  },
  "cells": [
    {
      "cell_type": "markdown",
      "metadata": {
        "id": "view-in-github",
        "colab_type": "text"
      },
      "source": [
        "<a href=\"https://colab.research.google.com/github/Sidhartha0601/sidhartha-sankar-halder/blob/master/Copy_of_Air_bnb_project_sidhartha_sankar_halder.ipynb\" target=\"_parent\"><img src=\"https://colab.research.google.com/assets/colab-badge.svg\" alt=\"Open In Colab\"/></a>"
      ]
    },
    {
      "cell_type": "markdown",
      "source": [
        "# **Project Name**    -\n",
        "\n"
      ],
      "metadata": {
        "id": "vncDsAP0Gaoa"
      }
    },
    {
      "cell_type": "markdown",
      "source": [
        "##### **Project Type**    - EDA\n",
        "##### **Contribution**    - Individual\n",
        "##### **Name  -**           Sidhartha sankar halder\n"
      ],
      "metadata": {
        "id": "beRrZCGUAJYm"
      }
    },
    {
      "cell_type": "markdown",
      "source": [
        "# **Project Summary -**\n",
        "\n",
        "Since 2008, guests and hosts have used Airbnb to expand on travelling possibilities and present a more unique, personalised way of experiencing the world. Today, Airbnb became one of a kind service that is used and recognized by the whole world. Data analysis on millions of listings provided through Airbnb is a crucial factor for the company. These millions of listings generate a lot of data - data that can be analysed and used for security, business decisions, understanding - of customers' and providers' (hosts) behaviour and performance on the platform, guiding marketing initiatives, implementation of innovative additional services and much more. This dataset has around 49,000 observations in it with 16 columns and it is a mix of categorical and numeric values. Here we explore and clean our data by removing the null values and find the proper conclusion so that company and host both will get the benefits in their business."
      ],
      "metadata": {
        "id": "FJNUwmbgGyua"
      }
    },
    {
      "cell_type": "markdown",
      "source": [
        "Write the summary here within 500-600 words."
      ],
      "metadata": {
        "id": "F6v_1wHtG2nS"
      }
    },
    {
      "cell_type": "markdown",
      "source": [
        "# **GitHub Link -**"
      ],
      "metadata": {
        "id": "w6K7xa23Elo4"
      }
    },
    {
      "cell_type": "markdown",
      "source": [
        "https://github.com/Sidhartha0601/Air-bnb-project_sidhartha-sankar-halder.git"
      ],
      "metadata": {
        "id": "h1o69JH3Eqqn"
      }
    },
    {
      "cell_type": "markdown",
      "source": [
        "# **Problem Statement**\n",
        "A great deal of travelers have found Airbnb to be a great, easy, and convenient way to stay while traveling. Additionally, it has allowed people to generate extra income by renting out their houses to residents. Nevertheless, if a prospective host's goal is to sell the property on Airbnb and make rental revenue, how can he decide which property to invest in? In addition, how does a traveller know what to look for when looking for the cheapest listing with the desired qualities? The price of a listing is influenced by a number of factors, including the location of the resident and the quality of the listing."
      ],
      "metadata": {
        "id": "yQaldy8SH6Dl"
      }
    },
    {
      "cell_type": "code",
      "source": [],
      "metadata": {
        "id": "gpedIxjgKRHU"
      },
      "execution_count": null,
      "outputs": []
    },
    {
      "cell_type": "markdown",
      "source": [
        "** *italicised text*Write Problem Statement Here.**"
      ],
      "metadata": {
        "id": "DpeJGUA3kjGy"
      }
    },
    {
      "cell_type": "markdown",
      "source": [
        "#### **Define Your Business Objective?**\n",
        "1.Get the most preferred room type per neighbourhood and their price variation.\n",
        "\n",
        "\n",
        "2.Compare the average prices among residences.\n",
        "\n",
        "\n",
        "3.Find out whether Airbnb super hosts take advantage of their status in order to charge higher prices to their customers.\n",
        "\n",
        "\n",
        "4.To discover which neighbourhood is more expensive to stay.\n",
        "\n",
        "\n",
        "5.To analyse which room type is mostly preferred in each neighbourhood.\n",
        "\n",
        "\n",
        "6.To check the availability of the room type.."
      ],
      "metadata": {
        "id": "PH-0ReGfmX4f"
      }
    },
    {
      "cell_type": "markdown",
      "source": [
        "1.Forecast demand for Airbnb listings based on historical data. Pricing and availability can be optimized this way.\n",
        "2. Get the most preferred room type per neighbourhood and their price variation.\n",
        "3. Compare the average prices among residences.\n",
        "4. Find out whether Airbnb super hosts take advantage of their status in order to charge higher prices to their customers.\n",
        "5. To discover which neighbourhood is more expensive to stay.\n",
        "6. To analyse which room type is mostly preferred in each neighbourhood.\n",
        "7. To check the availability of the room type.\n",
        "Answer Here."
      ],
      "metadata": {
        "id": "PhDvGCAqmjP1"
      }
    },
    {
      "cell_type": "markdown",
      "source": [],
      "metadata": {
        "id": "8caGrPhhDUkc"
      }
    },
    {
      "cell_type": "markdown",
      "source": [
        "# **General Guidelines** : -  \n",
        "\n",
        "Well-structured, formatted, and commented code is required.\n",
        "\n",
        "Exception Handling, Production Grade Code & Deployment Ready Code will be a plus. Those students will be awarded some additional credits.\n",
        "\n",
        "The additional credits will have advantages over other students during Star Student selection.\n",
        "\n",
        "    [ Note: - Deployment Ready Code is defined as, the whole .ipynb notebook should be executable in one go\n",
        "              without a single error logged. ]\n",
        "\n",
        "Each and every logic should have proper comments.\n",
        "\n",
        "You may add as many number of charts you want. Make Sure for each and every chart the following format should be answered.\n",
        "\n",
        "# Chart visualization code\n",
        "Why did you pick the specific chart?\n",
        "What is/are the insight(s) found from the chart?\n",
        "Will the gained insights help creating a positive business impact?\n",
        "Are there any insights that lead to negative growth? Justify with specific reason.\n",
        "\n",
        "You have to create at least 20 logical & meaningful charts having important insights.\n",
        "[ Hints : - Do the Vizualization in a structured way while following \"UBM\" Rule.\n",
        "\n",
        "U - Univariate Analysis,\n",
        "\n",
        "B - Bivariate Analysis (Numerical - Categorical, Numerical - Numerical, Categorical - Categorical)\n",
        "\n",
        "M - Multivariate Analysis ]"
      ],
      "metadata": {
        "id": "mDgbUHAGgjLW"
      }
    },
    {
      "cell_type": "markdown",
      "source": [
        "1.   Well-structured, formatted, and commented code is required.\n",
        "2.   Exception Handling, Production Grade Code & Deployment Ready Code will be a plus. Those students will be awarded some additional credits.\n",
        "     \n",
        "     The additional credits will have advantages over other students during Star Student selection.\n",
        "       \n",
        "             [ Note: - Deployment Ready Code is defined as, the whole .ipynb notebook should be executable in one go\n",
        "                       without a single error logged. ]\n",
        "\n",
        "3.   Each and every logic should have proper comments.\n",
        "4. You may add as many number of charts you want. Make Sure for each and every chart the following format should be answered.\n",
        "        \n",
        "\n",
        "```\n",
        "# Chart visualization code\n",
        "```\n",
        "            \n",
        "\n",
        "*   Why did you pick the specific chart?\n",
        "*   What is/are the insight(s) found from the chart?\n",
        "* Will the gained insights help creating a positive business impact?\n",
        "Are there any insights that lead to negative growth? Justify with specific reason.\n",
        "\n",
        "5. You have to create at least 20 logical & meaningful charts having important insights.\n",
        "\n",
        "\n",
        "[ Hints : - Do the Vizualization in  a structured way while following \"UBM\" Rule.\n",
        "\n",
        "U - Univariate Analysis,\n",
        "\n",
        "B - Bivariate Analysis (Numerical - Categorical, Numerical - Numerical, Categorical - Categorical)\n",
        "\n",
        "M - Multivariate Analysis\n",
        " ]\n",
        "\n",
        "\n",
        "\n"
      ],
      "metadata": {
        "id": "ZrxVaUj-hHfC"
      }
    },
    {
      "cell_type": "markdown",
      "source": [
        "# ***Let's Begin !***"
      ],
      "metadata": {
        "id": "O_i_v8NEhb9l"
      }
    },
    {
      "cell_type": "markdown",
      "source": [
        "## ***1. Know Your Data***"
      ],
      "metadata": {
        "id": "HhfV-JJviCcP"
      }
    },
    {
      "cell_type": "markdown",
      "source": [
        "### Import Libraries"
      ],
      "metadata": {
        "id": "Y3lxredqlCYt"
      }
    },
    {
      "cell_type": "code",
      "source": [
        "# Import Libraries\n",
        "# Import Libraries\n",
        "import numpy as np\n",
        "import pandas as pd\n",
        "import matplotlib.pyplot as plt\n",
        "%matplotlib inline\n",
        "from matplotlib import rcParams\n",
        "import seaborn as sns\n"
      ],
      "metadata": {
        "id": "M8Vqi-pPk-HR"
      },
      "execution_count": null,
      "outputs": []
    },
    {
      "cell_type": "markdown",
      "source": [
        "### Dataset Loading"
      ],
      "metadata": {
        "id": "3RnN4peoiCZX"
      }
    },
    {
      "cell_type": "code",
      "source": [
        "# Load Dataset\n",
        "df = pd.read_csv('/content/Airbnb NYC 2019 - Airbnb NYC 2019.csv')"
      ],
      "metadata": {
        "id": "4CkvbW_SlZ_R"
      },
      "execution_count": null,
      "outputs": []
    },
    {
      "cell_type": "markdown",
      "source": [
        "### Dataset First View"
      ],
      "metadata": {
        "id": "x71ZqKXriCWQ"
      }
    },
    {
      "cell_type": "code",
      "source": [
        "# Dataset First Look\n",
        "df.head()"
      ],
      "metadata": {
        "id": "LWNFOSvLl09H"
      },
      "execution_count": null,
      "outputs": []
    },
    {
      "cell_type": "markdown",
      "source": [
        "### Dataset Rows & Columns count"
      ],
      "metadata": {
        "id": "7hBIi_osiCS2"
      }
    },
    {
      "cell_type": "code",
      "source": [
        "# Dataset Rows & Columns count\n",
        "df.shape"
      ],
      "metadata": {
        "id": "Kllu7SJgmLij"
      },
      "execution_count": null,
      "outputs": []
    },
    {
      "cell_type": "markdown",
      "source": [
        "### Dataset Information"
      ],
      "metadata": {
        "id": "JlHwYmJAmNHm"
      }
    },
    {
      "cell_type": "code",
      "source": [
        "# Dataset Info\n",
        "df.info()"
      ],
      "metadata": {
        "id": "e9hRXRi6meOf"
      },
      "execution_count": null,
      "outputs": []
    },
    {
      "cell_type": "markdown",
      "source": [
        "#### Duplicate Values"
      ],
      "metadata": {
        "id": "35m5QtbWiB9F"
      }
    },
    {
      "cell_type": "code",
      "source": [
        "# Dataset Duplicate Value Count\n",
        "df[df.duplicated()]"
      ],
      "metadata": {
        "id": "1sLdpKYkmox0"
      },
      "execution_count": null,
      "outputs": []
    },
    {
      "cell_type": "markdown",
      "source": [
        "#### Missing Values/Null Values"
      ],
      "metadata": {
        "id": "PoPl-ycgm1ru"
      }
    },
    {
      "cell_type": "code",
      "source": [
        "# Missing Values/Null Values Count\n",
        "df.isnull().sum()"
      ],
      "metadata": {
        "id": "GgHWkxvamxVg"
      },
      "execution_count": null,
      "outputs": []
    },
    {
      "cell_type": "code",
      "source": [
        "# Visualizing the missing values\n",
        "plt.figure(figsize=(12,8))\n",
        "sns.heatmap(df.isnull(),cmap=\"YlGnBu\",cbar={'label': 'Missing Data'})"
      ],
      "metadata": {
        "id": "3q5wnI3om9sJ"
      },
      "execution_count": null,
      "outputs": []
    },
    {
      "cell_type": "markdown",
      "source": [
        "### What did you know about your dataset?"
      ],
      "metadata": {
        "id": "H0kj-8xxnORC"
      }
    },
    {
      "cell_type": "markdown",
      "source": [
        "The above dataset has 48895 rows and 16 columns. There are 2 columns i.e last_review and reviews_per_month which contains missing values. There is no duplicate values in the dataset."
      ],
      "metadata": {
        "id": "gfoNAAC-nUe_"
      }
    },
    {
      "cell_type": "code",
      "source": [],
      "metadata": {
        "id": "zhL6ucwVHj81"
      },
      "execution_count": null,
      "outputs": []
    },
    {
      "cell_type": "markdown",
      "source": [
        "## ***2. Understanding Your Variables***"
      ],
      "metadata": {
        "id": "nA9Y7ga8ng1Z"
      }
    },
    {
      "cell_type": "code",
      "source": [
        "# Dataset Columns\n",
        "df.columns"
      ],
      "metadata": {
        "id": "j7xfkqrt5Ag5"
      },
      "execution_count": null,
      "outputs": []
    },
    {
      "cell_type": "code",
      "source": [
        "# Dataset Describe\n",
        "df.describe()"
      ],
      "metadata": {
        "id": "DnOaZdaE5Q5t"
      },
      "execution_count": null,
      "outputs": []
    },
    {
      "cell_type": "markdown",
      "source": [
        "### Variables Description"
      ],
      "metadata": {
        "id": "PBTbrJXOngz2"
      }
    },
    {
      "cell_type": "markdown",
      "source": [
        "1- ID- Unique ID\n",
        "\n",
        "2-Name- Name of listing\n",
        "\n",
        "3- Host ID - Unique Host id\n",
        "\n",
        "4-Host Name - Name of the host\n",
        "\n",
        "5- Neighbourhood group- Location\n",
        "\n",
        "6-Neighbourhood- Area\n",
        "\n",
        "7-Latitide- Latitude range\n",
        "\n",
        "8-Longitude- Longitude range\n",
        "\n",
        "9- Room type- Type of listing\n",
        "\n",
        "10- Price- Price of listing\n",
        "\n",
        "11-Minimum Nights- Minimum nights to be paid for\n",
        "\n",
        "12- Number of reviews- Number of reviews\n",
        "\n",
        "13- Last Review- Content of the last review\n",
        "\n",
        "14-Reviews per month- Number of checks per month\n",
        "\n",
        "15-Calculated host listing count- Total count\n",
        "\n",
        "16-Availability 365- Availability around the year\n",
        "\n"
      ],
      "metadata": {
        "id": "aJV4KIxSnxay"
      }
    },
    {
      "cell_type": "markdown",
      "source": [
        "### Check Unique Values for each variable."
      ],
      "metadata": {
        "id": "u3PMJOP6ngxN"
      }
    },
    {
      "cell_type": "code",
      "source": [
        "# Check Unique Values for each variable.\n",
        "conv_to_list = df.columns.tolist()\n",
        "for x in conv_to_list:\n",
        "  print(\"No. of unique values in \",x,\"is\",df[x].nunique())\n"
      ],
      "metadata": {
        "id": "zms12Yq5n-jE"
      },
      "execution_count": null,
      "outputs": []
    },
    {
      "cell_type": "markdown",
      "source": [
        "## 3. ***Data Wrangling***"
      ],
      "metadata": {
        "id": "dauF4eBmngu3"
      }
    },
    {
      "cell_type": "markdown",
      "source": [
        "### Data Wrangling Code"
      ],
      "metadata": {
        "id": "bKJF3rekwFvQ"
      }
    },
    {
      "cell_type": "code",
      "source": [
        "# Write your code to make your dataset analysis ready.\n",
        "dcop = df.copy()"
      ],
      "metadata": {
        "id": "wk-9a2fpoLcV"
      },
      "execution_count": null,
      "outputs": []
    },
    {
      "cell_type": "code",
      "source": [
        "dcop = dcop.drop(['last_review'], axis = 1)"
      ],
      "metadata": {
        "id": "uXw2NsJKJnjL"
      },
      "execution_count": null,
      "outputs": []
    },
    {
      "cell_type": "markdown",
      "source": [
        "Remove the null rows of Name and Host_name because that null value is very less as compare the total no. of row in our dataset , so we can easily remove those rows."
      ],
      "metadata": {
        "id": "MwaFWUftJ8t1"
      }
    },
    {
      "cell_type": "code",
      "source": [
        "dcop = dcop[~dcop['host_name'].isna()]\n",
        "dcop = dcop[~dcop['name'].isna()]"
      ],
      "metadata": {
        "id": "riuj1LacJ_10"
      },
      "execution_count": null,
      "outputs": []
    },
    {
      "cell_type": "markdown",
      "source": [
        "There are so many null values in reviews_per_month column, so we can replace all the null value with 0 value by using fillna method.\n"
      ],
      "metadata": {
        "id": "tu14wBmfLKyL"
      }
    },
    {
      "cell_type": "code",
      "source": [
        "dcop.fillna({'reviews_per_month':0}, inplace = True)\n",
        "dcop.isnull().sum()"
      ],
      "metadata": {
        "id": "zq6d4NubLLrc"
      },
      "execution_count": null,
      "outputs": []
    },
    {
      "cell_type": "code",
      "source": [
        "dcop= dcop.loc[dcop['price']>0]\n",
        "dcop.describe()"
      ],
      "metadata": {
        "id": "AMZNanCRNTWl"
      },
      "execution_count": null,
      "outputs": []
    },
    {
      "cell_type": "code",
      "source": [
        "dcop.columns"
      ],
      "metadata": {
        "id": "0pNoxEzMNmgT"
      },
      "execution_count": null,
      "outputs": []
    },
    {
      "cell_type": "markdown",
      "source": [
        "### What all manipulations have you done and insights you found?"
      ],
      "metadata": {
        "id": "MSa1f5Uengrz"
      }
    },
    {
      "cell_type": "markdown",
      "source": [
        "Since column name and host_name had few missing values, we dropped\n",
        "\n",
        "them. Number_of_reviews had a large amount of missing values so we did not drop all these rows to avoid affecting our overall results, so we filled these values with 0.\n",
        "\n",
        "Analyzing the price column, we found that some properties had a price of 0, which is not possible. On the filtered dataset, we conducted further analysis.Answer Here."
      ],
      "metadata": {
        "id": "LbyXE7I1olp8"
      }
    },
    {
      "cell_type": "markdown",
      "source": [
        "## ***4. Data Vizualization, Storytelling & Experimenting with charts : Understand the relationships between variables***"
      ],
      "metadata": {
        "id": "GF8Ens_Soomf"
      }
    },
    {
      "cell_type": "markdown",
      "source": [
        "#### Chart - 1"
      ],
      "metadata": {
        "id": "0wOQAZs5pc--"
      }
    },
    {
      "cell_type": "markdown",
      "source": [
        "##### 1. Why did you pick the specific chart?"
      ],
      "metadata": {
        "id": "K5QZ13OEpz2H"
      }
    },
    {
      "cell_type": "markdown",
      "source": [
        "We can easily demonstrates the categorical columns and provides meaningful insight, hence for analysing room_type column, this chart was pickedAnswer Here."
      ],
      "metadata": {
        "id": "XESiWehPqBRc"
      }
    },
    {
      "cell_type": "markdown",
      "source": [],
      "metadata": {
        "id": "FjDBuHi8UgPQ"
      }
    },
    {
      "cell_type": "code",
      "source": [
        "\n",
        "# Create a figure and set its size\n",
        "plt.figure(figsize=(12, 6))\n",
        "\n",
        "# Define colors for the bar chart\n",
        "colors = ['#C94845', '#4958B6', '#49D845']\n",
        "\n",
        "# Plot the total count of different room types as a bar chart\n",
        "room_type_counts = df['room_type'].value_counts()\n",
        "room_type_counts.plot(kind='bar', color=colors)\n",
        "\n",
        "# Add data labels to the bars\n",
        "for i, count in enumerate(room_type_counts):\n",
        "    plt.text(i, count, f\"{count}\", ha='center', va='bottom', fontsize=12, fontweight='bold', color='black')\n",
        "\n",
        "# Add a title and labels\n",
        "plt.title('Total Count of Different Room Types in All Locations')\n",
        "plt.ylabel('Count')\n",
        "plt.xlabel('Room Type')\n",
        "\n",
        "# Customize the appearance of the plot\n",
        "plt.xticks(rotation=0)  # Rotate x-axis labels to horizontal\n",
        "plt.grid(axis='y', linestyle='--', alpha=0.6)\n",
        "\n",
        "# Show the plot\n",
        "plt.show()\n"
      ],
      "metadata": {
        "id": "MguJm8PURXSw"
      },
      "execution_count": null,
      "outputs": []
    },
    {
      "cell_type": "code",
      "source": [
        "# Create a figure and set its size\n",
        "plt.figure(figsize=(10, 10))\n",
        "\n",
        "# Define colors and explode values for the pie chart\n",
        "colors = ['brown', 'steelblue', 'green']\n",
        "explode = (0.1, 0.1, 0.1)\n",
        "\n",
        "# Plot the percentage of room types as a pie chart\n",
        "room_type_counts.plot(kind='pie', autopct='%1.1f%%', wedgeprops={\"edgecolor\": \"black\", 'linewidth': 1.2},\n",
        "                     colors=colors, explode=explode)\n",
        "\n",
        "# Add a title\n",
        "plt.title('Percentage of Room Types in All Locations')\n",
        "\n",
        "# Equal aspect ratio ensures that pie is drawn as a circle.\n",
        "plt.axis('equal')\n",
        "\n",
        "# Show the plot\n",
        "plt.show()\n"
      ],
      "metadata": {
        "id": "Z33zVuo9TwXr"
      },
      "execution_count": null,
      "outputs": []
    },
    {
      "cell_type": "markdown",
      "source": [],
      "metadata": {
        "id": "kRD9QZ3DTv6F"
      }
    },
    {
      "cell_type": "markdown",
      "source": [
        "##### 2. What is/are the insight(s) found from the chart?\n",
        "It was seen that the total count of entire apartment or home in all locations is more followed by the private room and then shared room.\n",
        "Here we see that 52% Entire room apartments, 45.7% Privatrte room and 2.4% Shared room are present in all the 5 locations."
      ],
      "metadata": {
        "id": "lQ7QKXXCp7Bj"
      }
    },
    {
      "cell_type": "markdown",
      "source": [
        "\n",
        "3. Will the gained insights help creating a positive business impact?\n",
        "\n",
        "\n",
        "Are there any insights that lead to negative growth? Justify with specific reason.\n",
        "From this chart, we can conclude that hosts can go for listing their entire house or apartment for residents to stay as it is the most preferred room type and this can benefit the host.\n",
        "Here we see that shared rooms is leastly prefered by the customers so if host want to rented the shared room in any location then it may lead to negative growth in their business."
      ],
      "metadata": {
        "id": "alLcIYUoVxtO"
      }
    },
    {
      "cell_type": "markdown",
      "source": [
        "Chart - 2 - UNIVARIATE"
      ],
      "metadata": {
        "id": "RXUr86gHWSsU"
      }
    },
    {
      "cell_type": "markdown",
      "source": [
        "Q2 What is the most common Price range of rooms which is mostly prefered by the customers and least prefered by the customers?\n"
      ],
      "metadata": {
        "id": "vku-Z1ZZTMwU"
      }
    },
    {
      "cell_type": "code",
      "source": [
        "\n",
        "\n",
        "# Create a figure and set its size\n",
        "plt.figure(figsize=(12, 6))\n",
        "\n",
        "# Plot the price distribution with a KDE plot and custom styling\n",
        "sns.histplot(df['price'], kde=True, color='skyblue', bins=100, element='step', common_norm=False)\n",
        "\n",
        "# Add a title and labels\n",
        "plt.title('Distribution of Prices')\n",
        "plt.xlabel('Price')\n",
        "plt.ylabel('Frequency')\n",
        "\n",
        "# Customize the appearance of the plot\n",
        "plt.grid(axis='y', linestyle='--', alpha=0.6)\n",
        "\n",
        "# Show the plot\n",
        "plt.show()\n",
        "\n",
        "# Zoom in on prices less than or equal to $700\n",
        "plt.figure(figsize=(12, 6))\n",
        "\n",
        "# Plot the zoomed-in price distribution with a KDE plot and custom styling\n",
        "sns.histplot(price_range, kde=True, color='red', bins=100, element='step', common_norm=False)\n",
        "\n",
        "# Add a title and labels\n",
        "plt.title('Zoomed-In Distribution of Prices (Price <= $700)')\n",
        "plt.xlabel('Price')\n",
        "plt.ylabel('Frequency')\n",
        "\n",
        "# Customize the appearance of the plot\n",
        "plt.grid(axis='y', linestyle='--', alpha=0.6)\n",
        "\n",
        "# Add annotations for key price points\n",
        "plt.axvline(x=100, color='orange', linestyle='--', linewidth=2, label='Example Threshold')\n",
        "plt.annotate('Threshold', xy=(100, 50), xytext=(150, 100),\n",
        "             arrowprops=dict(facecolor='black', shrink=0.05),\n",
        "             )\n",
        "\n",
        "# Show the plot\n",
        "plt.legend()\n",
        "plt.show()\n"
      ],
      "metadata": {
        "id": "qu36w8ELTHx1"
      },
      "execution_count": null,
      "outputs": []
    },
    {
      "cell_type": "markdown",
      "source": [
        "1. Why did you pick the specific chart?\n",
        "\n",
        "The distribution plot helps in analysing the frequency of the numerical data and hence is used to analyse the price column of the dataset.\n",
        "2. What is/are the insight(s) found from the chart?\n",
        "\n",
        "From the 1st chart, it was seen that the most of the prices range between 0 to 700 and their are only few entries of price greater than 700. Hence to analyse the most frequent price range, we again checked the price column with a limit of price less than 700. It was seen that the prices between 40 to 200 were the most common.\n",
        "3. Will the gained insights help creating a positive business impact?\n",
        "\n",
        "\n",
        "Are there any insights that lead to negative growth? Justify with specific reason.\n",
        "This chart concludes about what price range should a host prefer if they want their property to be most preferred by the customer. In this case it comes out to be between 40 to 250.\n",
        "If the host increases the price beyond 700, it can show a negative growth to his business.Answer Here"
      ],
      "metadata": {
        "id": "3cspy4FjqxJW"
      }
    },
    {
      "cell_type": "code",
      "source": [],
      "metadata": {
        "id": "kW_EvUibOInK"
      },
      "execution_count": null,
      "outputs": []
    },
    {
      "cell_type": "markdown",
      "source": [
        ":#### Chart - 3\n"
      ],
      "metadata": {
        "id": "EM7whBJCYoAo"
      }
    },
    {
      "cell_type": "markdown",
      "source": [
        "Q3 Calculate the count of room type in individual locations. Which room type has highest count in individual locations?"
      ],
      "metadata": {
        "id": "fwU8fzt1hmgn"
      }
    },
    {
      "cell_type": "code",
      "source": [
        "# Chart - 3 visualization code\n",
        "# First find the total no. of rooms in top 2 locations i.e manhattan and brooklyn\n",
        "\n",
        "room_count_manhattan = dcop[dcop['neighbourhood_group']=='Manhattan']['room_type'].count()\n",
        "room_count_brooklyn = dcop[dcop['neighbourhood_group']=='Brooklyn']['room_type'].count()\n",
        "\n",
        "print (f'The total no. of rooms in Brooklyn is {room_count_brooklyn} and in Manhattan is {room_count_manhattan}')\n",
        "\n",
        "# find the npo. of rooms type in individual location\n",
        "dcop.groupby(['neighbourhood_group','room_type'])['room_type'].count().unstack()"
      ],
      "metadata": {
        "id": "t6GMdE67YoAp"
      },
      "execution_count": null,
      "outputs": []
    },
    {
      "cell_type": "markdown",
      "source": [
        "In Manhattan location, 662 no. of rooms type are more than in Brooklyn location\n"
      ],
      "metadata": {
        "id": "JV8dtRvTh5RQ"
      }
    },
    {
      "cell_type": "code",
      "source": [
        "# Chart - 3 visualization code\n",
        "\n",
        "# Here we find the count of room type in individual locations by using countplot method.\n",
        "plt.figure(figsize=(12,9))\n",
        "plt.title(\"Room Type on Neighbourhood Group\")\n",
        "sns.countplot(data = dcop, x= 'neighbourhood_group', hue= 'room_type', palette=\"muted\")\n",
        "plt.show()\n"
      ],
      "metadata": {
        "id": "F23f6CjpqUww"
      },
      "execution_count": null,
      "outputs": []
    },
    {
      "cell_type": "markdown",
      "source": [
        "##### 1. Why did you pick the specific chart?\n"
      ],
      "metadata": {
        "id": "fge-S5ZAYoAp"
      }
    },
    {
      "cell_type": "markdown",
      "source": [
        "This Countplot chart helps us in analysing the count of room type according to the location.\n"
      ],
      "metadata": {
        "id": "5dBItgRVYoAp"
      }
    },
    {
      "cell_type": "markdown",
      "source": [],
      "metadata": {
        "id": "i4MYeip-iARq"
      }
    },
    {
      "cell_type": "markdown",
      "source": [
        "##### 2. What is/are the insight(s) found from the chart?"
      ],
      "metadata": {
        "id": "85gYPyotYoAp"
      }
    },
    {
      "cell_type": "markdown",
      "source": [
        "From the above chart, we found the count of room type present in the different location. we can see that in Brooklyn, Queens and Bronyx location, private rooms has more count as compare to others room. In Manhattan location, Entire home/apartments has huge count as compare to other room type in this location, while in Staten island, Private and entire home/apartments has same count.\n",
        "Shared room is least preferred by host as well as customers because there is very less no. of count in all the locations.Answer Here"
      ],
      "metadata": {
        "id": "4jstXR6OYoAp"
      }
    },
    {
      "cell_type": "markdown",
      "source": [
        "##### 3. Will the gained insights help creating a positive business impact?\n",
        "By doing this analyses, we know that which loctaion to be target according to the room type. If hosts target the correct location for correct room type, then in less time, their property will be most prefered by the customers.\n",
        "If the host does not target the correct location, it can show a negative growth to his business.\n",
        "We can also conclude from the above analyses that private rooms and entire room apartments are mostly prefered by the customers.."
      ],
      "metadata": {
        "id": "RoGjAbkUYoAp"
      }
    },
    {
      "cell_type": "markdown",
      "source": [
        "Answer Here"
      ],
      "metadata": {
        "id": "zfJ8IqMcYoAp"
      }
    },
    {
      "cell_type": "markdown",
      "source": [
        "#### Chart - 4"
      ],
      "metadata": {
        "id": "4Of9eVA-YrdM"
      }
    },
    {
      "cell_type": "markdown",
      "source": [
        "Q4 Find the room type in each location which has high number of reviews by the customers?"
      ],
      "metadata": {
        "id": "7rcqEr6cryTr"
      }
    },
    {
      "cell_type": "code",
      "source": [
        "# Chart - 4 visualization code\n",
        "# find the total no. of reviews in top 2 location\n",
        "\n",
        "max_reviews_b_location = dcop[dcop['neighbourhood_group']== 'Brooklyn']['number_of_reviews'].sum()\n",
        "max_reviews_m_location = dcop[dcop['neighbourhood_group']== 'Manhattan']['number_of_reviews'].sum()\n",
        "\n",
        "print(f'Brooklyn has {max_reviews_b_location} no. of reviews and Manhattan has {max_reviews_m_location} no. of reviews')\n",
        "\n",
        "\n",
        "# groupby the total no. of revies according to the room type in all location\n",
        "\n",
        "dcop.groupby(['neighbourhood_group','room_type'])['number_of_reviews'].sum().unstack()\n"
      ],
      "metadata": {
        "id": "irlUoxc8YrdO"
      },
      "execution_count": null,
      "outputs": []
    },
    {
      "cell_type": "markdown",
      "source": [
        "Inspite of Manhattan location has more number of rooms over Brooklyn location, the total no. of reviews in Brooklyn location has more than the Manhattan location."
      ],
      "metadata": {
        "id": "ZBR2jnhGsTyQ"
      }
    },
    {
      "cell_type": "markdown",
      "source": [
        "So we can say that more customers prefered the Brooklyn location"
      ],
      "metadata": {
        "id": "qQyG5GsRsYyT"
      }
    },
    {
      "cell_type": "code",
      "source": [
        "\n",
        "\n",
        "# Group by neighborhood and room type, and calculate the total number of reviews\n",
        "reviews_by_location = dcop.groupby(['neighbourhood_group', 'room_type'])['number_of_reviews'].sum().unstack()\n",
        "\n",
        "# Create a stacked bar chart\n",
        "ax = reviews_by_location.plot(kind='bar', figsize=(12, 8), stacked=True, colormap='viridis')\n",
        "\n",
        "# Add data labels to each bar segment\n",
        "for container in ax.containers:\n",
        "    ax.bar_label(container, label_type='edge', fontsize=10, color='white', weight='bold', padding=3)\n",
        "\n",
        "# Add a title and labels\n",
        "plt.title('Total Number of Reviews by Location and Room Type')\n",
        "plt.ylabel('Number of Reviews')\n",
        "plt.xlabel('Location')\n",
        "\n",
        "# Customize the appearance of the plot\n",
        "plt.xticks(rotation=45)\n",
        "plt.grid(axis='y', linestyle='--', alpha=0.6)\n",
        "\n",
        "# Show the plot\n",
        "plt.legend(title='Room Type')\n",
        "plt.show()\n",
        "\n"
      ],
      "metadata": {
        "id": "B3WXpw3irwuD"
      },
      "execution_count": null,
      "outputs": []
    },
    {
      "cell_type": "markdown",
      "source": [
        "##### 1. Why did you pick the specific chart?"
      ],
      "metadata": {
        "id": "iky9q4vBYrdO"
      }
    },
    {
      "cell_type": "markdown",
      "source": [
        "This bar chart helps us to analyse the mostly prefered room type by the customers in different locations."
      ],
      "metadata": {
        "id": "aJRCwT6DYrdO"
      }
    },
    {
      "cell_type": "markdown",
      "source": [
        "##### 2. What is/are the insight(s) found from the chart?"
      ],
      "metadata": {
        "id": "F6T5p64dYrdO"
      }
    },
    {
      "cell_type": "markdown",
      "source": [
        "From the above graph, We found that we have 3 major locations where has more number of reviews by the customers. By analysing this data, we can denote that in 'Brooklyn' location Entiire home/apartments has more no. of reviews as compare to private rooms even when private rooms count has more than the entire home/apartments in that location.\n",
        "In 'Manhattan' location, Entire home/apartments has more no. of reviews but private rooms are also more closer.\n",
        "In Queens loctaion, people prefered private rooms over the entire apartments/home, which was correct prediction according to the count of room type.\n",
        "So overall we can predit that, mostly customers preferred and like the Entire home/apartments for stay on Air BNB platform"
      ],
      "metadata": {
        "id": "Xx8WAJvtYrdO"
      }
    },
    {
      "cell_type": "markdown",
      "source": [
        "##### 3. Will the gained insights help creating a positive business impact?\n",
        "Are there any insights that lead to negative growth? Justify with specific reason."
      ],
      "metadata": {
        "id": "y-Ehk30pYrdP"
      }
    },
    {
      "cell_type": "markdown",
      "source": [
        "From this insight we can grow our business in a positive direction by targeting the right rooms in right location. Now we know that, on which location cutomer preferred which room type more so we can increase that particular room type on that location to increase the business.\n",
        "In chart 3, we can see that Private rooms count in Brooklyn location has few more over Entire home/apartments but in this chart we can see that customers prefereed more Entire home/apartments and the same in Manhattan location where Entire home/apartments has huge count over the private rooms but in this graph we can see that cutomers preferred nearly both room types."
      ],
      "metadata": {
        "id": "jLNxxz7MYrdP"
      }
    },
    {
      "cell_type": "markdown",
      "source": [
        "#### Chart - 5"
      ],
      "metadata": {
        "id": "bamQiAODYuh1"
      }
    },
    {
      "cell_type": "markdown",
      "source": [
        "Q5 Find the average price in all the locations\n"
      ],
      "metadata": {
        "id": "WYS5iTw-ttcp"
      }
    },
    {
      "cell_type": "code",
      "source": [
        "# Chart - 5 visualization code\n",
        "dcop.groupby(['neighbourhood_group'])['price'].mean()"
      ],
      "metadata": {
        "id": "TIJwrbroYuh3"
      },
      "execution_count": null,
      "outputs": []
    },
    {
      "cell_type": "code",
      "source": [
        "\n",
        "\n",
        "# Create a figure and set its size\n",
        "plt.figure(figsize=(12, 6))\n",
        "\n",
        "# Define custom colors with a gradient\n",
        "colors = ['#C94845', '#4958B6', '#49D845', '#c9c945', '#b9e145']\n",
        "n_colors = len(colors)\n",
        "\n",
        "# Group by neighborhood and calculate the mean price\n",
        "neighborhood_prices = df.groupby(['neighbourhood_group'])['price'].mean()\n",
        "\n",
        "# Create a bar chart with custom colors\n",
        "bars = plt.bar(neighborhood_prices.index, neighborhood_prices)\n",
        "\n",
        "# Annotate the bars with actual values\n",
        "for bar in bars:\n",
        "    height = bar.get_height()\n",
        "    plt.annotate(f'${height:.2f}', (bar.get_x() + bar.get_width() / 2, height),\n",
        "                 ha='center', va='bottom', fontsize=12, fontweight='bold', color='black')\n",
        "\n",
        "# Add a title and labels\n",
        "plt.title('Average Price Distribution by Location')\n",
        "plt.ylabel('Prices')\n",
        "plt.xlabel('Location Type')\n",
        "\n",
        "# Apply a color gradient to the bars\n",
        "for i, bar in enumerate(bars):\n",
        "    bar.set_color(colors[i])\n",
        "\n",
        "# Customize the appearance of the plot\n",
        "plt.xticks(rotation=45)\n",
        "plt.grid(axis='y', linestyle='--', alpha=0.6)\n",
        "\n",
        "# Show the plot\n",
        "plt.show()\n"
      ],
      "metadata": {
        "id": "6rS9aQNXRKSn"
      },
      "execution_count": null,
      "outputs": []
    },
    {
      "cell_type": "markdown",
      "source": [
        "##### 1. Why did you pick the specific chart?"
      ],
      "metadata": {
        "id": "QHF8YVU7Yuh3"
      }
    },
    {
      "cell_type": "markdown",
      "source": [
        "We pick this Bar chart to analyse the average price on different location. This chart shows the relation between avg. price on different locality.\n"
      ],
      "metadata": {
        "id": "dcxuIMRPYuh3"
      }
    },
    {
      "cell_type": "markdown",
      "source": [
        "##### 2. What is/are the insight(s) found from the chart?"
      ],
      "metadata": {
        "id": "GwzvFGzlYuh3"
      }
    },
    {
      "cell_type": "markdown",
      "source": [
        "We found average price distribution in all location. By doing this analysis we saw that 'MANHATTAN' location is more costlier and Bronx location has less costlier."
      ],
      "metadata": {
        "id": "uyqkiB8YYuh3"
      }
    },
    {
      "cell_type": "markdown",
      "source": [
        "##### 3. Will the gained insights help creating a positive business impact?\n",
        "Are there any insights that lead to negative growth? Justify with specific reason."
      ],
      "metadata": {
        "id": "qYpmQ266Yuh3"
      }
    },
    {
      "cell_type": "markdown",
      "source": [
        "From this insight we find that why Manhattan location has less no. of reviews over Brroklyn location because there is a huge difference in average price range in both the locations. This insight will help the hosts who have a property in Manhattan location and understand the price variation.\n",
        "Price may be the one of the factor which affects the Manhattan location even this location has more no. rooms but still it lies on the 2nd number in the table. Brooklyn location has most prefered by the customers."
      ],
      "metadata": {
        "id": "_WtzZ_hCYuh4"
      }
    },
    {
      "cell_type": "markdown",
      "source": [
        "#### Chart - 6"
      ],
      "metadata": {
        "id": "OH-pJp9IphqM"
      }
    },
    {
      "cell_type": "markdown",
      "source": [
        "Q6 What are the prices of each room type of a particular neighbourhood?"
      ],
      "metadata": {
        "id": "Kvgxc14Ouy4u"
      }
    },
    {
      "cell_type": "code",
      "source": [
        "\n",
        "\n",
        "# Filter data for prices less than $700\n",
        "filtered_data = dcop[dcop['price'] < 700]\n",
        "\n",
        "# Create a figure and set its size\n",
        "plt.figure(figsize=(13, 8))\n",
        "\n",
        "# Set a custom color palette\n",
        "colors = sns.color_palette(\"Greens\")\n",
        "\n",
        "# Create a bar chart to show median prices by room type and neighborhood group\n",
        "sns.barplot(data=filtered_data, x='neighbourhood_group', y='price', hue='room_type', palette=colors, ci=None)\n",
        "\n",
        "# Add a title and labels\n",
        "plt.title(\"Median Price Less than $700 with Respect to Room Type by Neighborhood Group\")\n",
        "plt.xlabel(\"Neighbourhood Group\")\n",
        "plt.ylabel(\"Price\")\n",
        "\n",
        "# Customize the legend position\n",
        "plt.legend(loc=\"upper right\")\n",
        "\n",
        "# Improve the x-axis tick labels by rotating them for better readability\n",
        "plt.xticks(rotation=45)\n",
        "\n",
        "# Add grid lines for better readability\n",
        "plt.grid(axis='y', linestyle='--', alpha=0.6)\n",
        "\n",
        "# Show the plot\n",
        "plt.show()\n"
      ],
      "metadata": {
        "id": "kuRf4wtuphqN"
      },
      "execution_count": null,
      "outputs": []
    },
    {
      "cell_type": "markdown",
      "source": [
        "##### 1. Why did you pick the specific chart?"
      ],
      "metadata": {
        "id": "bbFf2-_FphqN"
      }
    },
    {
      "cell_type": "markdown",
      "source": [
        "This Box plot helps us to analyse the median price distribution acc. to the room type for all neighbourhoods."
      ],
      "metadata": {
        "id": "loh7H2nzphqN"
      }
    },
    {
      "cell_type": "markdown",
      "source": [
        "##### 2. What is/are the insight(s) found from the chart?"
      ],
      "metadata": {
        "id": "_ouA3fa0phqN"
      }
    },
    {
      "cell_type": "markdown",
      "source": [
        "We found the avg. price of room type in all locations. We can see that for entire home apartments, the avg. price nearly equal to 175 dollars, for private room apartments- avg price nearly equal to 75 dollars and in shared room, the avg price nearly equal to 50 dollars."
      ],
      "metadata": {
        "id": "VECbqPI7phqN"
      }
    },
    {
      "cell_type": "markdown",
      "source": [
        "##### 3. Will the gained insights help creating a positive business impact?\n",
        "Are there any insights that lead to negative growth? Justify with specific reason."
      ],
      "metadata": {
        "id": "Seke61FWphqN"
      }
    },
    {
      "cell_type": "markdown",
      "source": [
        "This insights help to those hosts who wants to rent their house or private room or shared room. So they can choose the average price of their room type to make their room type most prefered by the customers. By doing so, this will create the positive impact on business.\n",
        "That some outliers prices may lead the negaive growth because that type of room is leastly prefereed by the customers."
      ],
      "metadata": {
        "id": "DW4_bGpfphqN"
      }
    },
    {
      "cell_type": "markdown",
      "source": [
        "#### Chart - 7-MULTIVARIATE"
      ],
      "metadata": {
        "id": "PIIx-8_IphqN"
      }
    },
    {
      "cell_type": "markdown",
      "source": [
        "Q7 How many minimum nights does a customer spend based on room type in each neighbourhood group?"
      ],
      "metadata": {
        "id": "sF_Va4wlv2AF"
      }
    },
    {
      "cell_type": "code",
      "source": [
        "\n",
        "\n",
        "# Filter data for minimum nights less than 10\n",
        "filtered_data = dcop[dcop['minimum_nights'] < 10]\n",
        "\n",
        "# Create a figure and set its size\n",
        "plt.figure(figsize=(14, 9))\n",
        "\n",
        "# Set a custom color palette\n",
        "colors = sns.color_palette(\"Greens\")\n",
        "\n",
        "# Create a violin plot for a more informative visualization without splitting\n",
        "sns.violinplot(data=filtered_data, x='neighbourhood_group', y='minimum_nights', hue='room_type', palette=colors, inner='quart')\n",
        "\n",
        "# Add a title and labels\n",
        "plt.title(\"Minimum Nights Spend by Customers in Each Room Type\")\n",
        "plt.xlabel(\"Neighbourhood Group\")\n",
        "plt.ylabel(\"Minimum Nights\")\n",
        "\n",
        "# Customize the legend position\n",
        "plt.legend(loc=\"upper right\")\n",
        "\n",
        "# Improve the x-axis tick labels by rotating them for better readability\n",
        "plt.xticks(rotation=45)\n",
        "\n",
        "# Add grid lines for better readability\n",
        "plt.grid(axis='y', linestyle='--', alpha=0.6)\n",
        "\n",
        "# Show the plot\n",
        "plt.show()\n"
      ],
      "metadata": {
        "id": "fhObCuW8P9_T"
      },
      "execution_count": null,
      "outputs": []
    },
    {
      "cell_type": "markdown",
      "source": [
        "##### 1. Why did you pick the specific chart?"
      ],
      "metadata": {
        "id": "t27r6nlMphqO"
      }
    },
    {
      "cell_type": "markdown",
      "source": [
        "This box plot tells us about the minimum no. of nights stay by the customers based on the room type."
      ],
      "metadata": {
        "id": "iv6ro40sphqO"
      }
    },
    {
      "cell_type": "markdown",
      "source": [
        "##### 2. What is/are the insight(s) found from the chart?"
      ],
      "metadata": {
        "id": "r2jJGEOYphqO"
      }
    },
    {
      "cell_type": "markdown",
      "source": [
        "We found that the minimum no. of nights to be stay by the customers for entire home apartment, for private room and shared room nearly in range of 1 to 4"
      ],
      "metadata": {
        "id": "Po6ZPi4hphqO"
      }
    },
    {
      "cell_type": "markdown",
      "source": [
        "##### 3. Will the gained insights help creating a positive business impact?\n",
        "Are there any insights that lead to negative growth? Justify with specific reason."
      ],
      "metadata": {
        "id": "b0JNsNcRphqO"
      }
    },
    {
      "cell_type": "markdown",
      "source": [
        "From the above insights we can found that none of the room type whose maximum nights to be stay more than 7 except some outliers. So we can conclude that the hosts whose room type have more than 7 avg. nights to be stay should change their policy on Air bnb."
      ],
      "metadata": {
        "id": "xvSq8iUTphqO"
      }
    },
    {
      "cell_type": "markdown",
      "source": [
        "#### Chart - 8 - BIVARIATE"
      ],
      "metadata": {
        "id": "BZR9WyysphqO"
      }
    },
    {
      "cell_type": "markdown",
      "source": [
        "Q8 Is their any correlation between number of reviews and prcice of the room?\n"
      ],
      "metadata": {
        "id": "gNCTHW8Mwjqb"
      }
    },
    {
      "cell_type": "code",
      "source": [
        "fig, (ax1, ax2) = plt.subplots(2, 1, figsize=(8, 10), sharex=True)\n",
        "\n",
        "# Customize the color palette\n",
        "palette = \"coolwarm\"\n",
        "\n",
        "# Filter data for prices less than $700 and more than $700\n",
        "data_less_than_700 = dcop[dcop['price'] < 700]\n",
        "data_more_than_700 = dcop[dcop['price'] > 700]\n",
        "\n",
        "# Create scatterplots for both cases\n",
        "sns.scatterplot(x=x, y=y, data=data_less_than_700, ax=ax1, palette=palette)\n",
        "sns.scatterplot(x=x, y=y, data=data_more_than_700, ax=ax2, palette=palette)\n",
        "\n",
        "# Add titles and labels\n",
        "ax1.set_title('No. of Reviews per Month (Price < $700)')\n",
        "ax2.set_title('No. of Reviews per Month (Price > $700)')\n",
        "\n",
        "ax2.set_xlabel('Reviews per Month')\n",
        "ax1.set_ylabel('Price')\n",
        "ax2.set_ylabel('Price')\n",
        "\n",
        "# Customize the legends\n",
        "ax1.legend().set_title('Price < $700')\n",
        "ax2.legend().set_title('Price > $700')\n",
        "\n",
        "# Add grid lines for better readability\n",
        "ax1.grid(axis='both', linestyle='--', alpha=0.6)\n",
        "ax2.grid(axis='both', linestyle='--', alpha=0.6)\n",
        "\n",
        "# Adjust subplot spacing\n",
        "plt.tight_layout()\n",
        "\n",
        "# Show the plots\n",
        "plt.show()\n",
        "\n",
        "\n",
        "\n",
        "\n"
      ],
      "metadata": {
        "id": "TdPTWpAVphqO"
      },
      "execution_count": null,
      "outputs": []
    },
    {
      "cell_type": "markdown",
      "source": [
        "##### 1. Why did you pick the specific chart?"
      ],
      "metadata": {
        "id": "jj7wYXLtphqO"
      }
    },
    {
      "cell_type": "markdown",
      "source": [
        "We picked this chart to analyse the relation between two numerical columns. By using Scatter plot we can easily analyse the link between 2 numerical columns."
      ],
      "metadata": {
        "id": "Ob8u6rCTphqO"
      }
    },
    {
      "cell_type": "markdown",
      "source": [
        "##### 2. What is/are the insight(s) found from the chart?"
      ],
      "metadata": {
        "id": "eZrbJ2SmphqO"
      }
    },
    {
      "cell_type": "markdown",
      "source": [
        "From the 1st graph we can easily say that customers mostly prefered the rooms whose price range is in between 1 to 200 dollar. Above 200 onwards, no. of reviews per month decreases but we can also say that price does not affect by the reviews or we can say reviews does not impact on the rooms price. There are so many rooms which have same price but diffenrt reviews, so we can not relate both of them.\n",
        "In the 2nd graph we can see that the property whose price range in between 2000 to 10000 dollar, the no. of reviews will be 0 to 1 only. Customers did not like the high price range room."
      ],
      "metadata": {
        "id": "mZtgC_hjphqO"
      }
    },
    {
      "cell_type": "markdown",
      "source": [
        "##### 3. Will the gained insights help creating a positive business impact?\n",
        "Are there any insights that lead to negative growth? Justify with specific reason."
      ],
      "metadata": {
        "id": "rFu4xreNphqO"
      }
    },
    {
      "cell_type": "markdown",
      "source": [
        "By doing this analyses we conclude that if host increase the prices of their property above 700 dollar, this may lead the negative growth of the business."
      ],
      "metadata": {
        "id": "ey_0qi68phqO"
      }
    },
    {
      "cell_type": "markdown",
      "source": [
        "#### Chart - 9- MULTIVARIATE"
      ],
      "metadata": {
        "id": "YJ55k-q6phqO"
      }
    },
    {
      "cell_type": "markdown",
      "source": [
        "Q9 What are the room types which are mostly available throughout the year?"
      ],
      "metadata": {
        "id": "7VEmIuizxcBC"
      }
    },
    {
      "cell_type": "code",
      "source": [
        "\n",
        "# Create a figure and set its size\n",
        "plt.figure(figsize=(12, 8))\n",
        "\n",
        "# Set a custom color palette\n",
        "colors = sns.color_palette(\"Blues\")\n",
        "\n",
        "# Create a box plot with notch and custom colors\n",
        "sns.boxplot(data=dcop, x='neighbourhood_group', y='availability_365', hue='room_type', palette=colors, notch=True)\n",
        "\n",
        "# Add a title and labels\n",
        "plt.title(\"Availability of Each Room Type in Different Neighborhood Groups\")\n",
        "plt.xlabel(\"Neighbourhood Group\")\n",
        "plt.ylabel(\"Availability (in days)\")\n",
        "\n",
        "# Customize the legend position\n",
        "plt.legend(loc=\"upper right\")\n",
        "\n",
        "# Improve the x-axis tick labels by rotating them for better readability\n",
        "plt.xticks(rotation=45)\n",
        "\n",
        "# Add grid lines for better readability\n",
        "plt.grid(axis='y', linestyle='--', alpha=0.6)\n",
        "\n",
        "# Show the plot\n",
        "plt.show()\n",
        "\n"
      ],
      "metadata": {
        "id": "B2aS4O1ophqO"
      },
      "execution_count": null,
      "outputs": []
    },
    {
      "cell_type": "markdown",
      "source": [
        "##### 1. Why did you pick the specific chart?"
      ],
      "metadata": {
        "id": "gCFgpxoyphqP"
      }
    },
    {
      "cell_type": "markdown",
      "source": [
        "This Box plot helps us to analyse the rooms availability in different location."
      ],
      "metadata": {
        "id": "TVxDimi2phqP"
      }
    },
    {
      "cell_type": "markdown",
      "source": [
        "##### 2. What is/are the insight(s) found from the chart?"
      ],
      "metadata": {
        "id": "OVtJsKN_phqQ"
      }
    },
    {
      "cell_type": "markdown",
      "source": [
        "It can be seen that shared rooms are mostly available throughout the year in almost all locations. The less availability of private rooms and entire apartment in Brooklyn and Manhattan indicates that these are already booked during the year."
      ],
      "metadata": {
        "id": "ngGi97qjphqQ"
      }
    },
    {
      "cell_type": "markdown",
      "source": [
        "##### 3. Will the gained insights help creating a positive business impact?\n",
        "Are there any insights that lead to negative growth? Justify with specific reason."
      ],
      "metadata": {
        "id": "lssrdh5qphqQ"
      }
    },
    {
      "cell_type": "markdown",
      "source": [
        "Optimizing Inventory: For Airbnb as a platform, knowing which room types tend to be available year-round can help in optimizing inventory. It allows the platform to ensure a consistent supply of certain types of accommodations, making it more attractive to travelers who seek reliable options.\n",
        "\n",
        "Host Decision-Making: For hosts, this information is valuable for decision-making. Hosts can focus on offering room types that have higher demand year-round, potentially leading to more stable rental income.\n",
        "\n",
        "Marketing and Promotion: Airbnb can use this data to design marketing campaigns or promotions around room types that are consistently available. This can attract more hosts and guests to these listings, creating a win-win situation for both parties.\n",
        "\n",
        "User Experience: Travelers benefit from this information by having a broader range of options to choose from, especially if they prefer specific room types. They can rely on Airbnb to consistently provide their preferred accommodations"
      ],
      "metadata": {
        "id": "tBpY5ekJphqQ"
      }
    },
    {
      "cell_type": "markdown",
      "source": [
        "#### Chart - 10- Correlation Heatmap"
      ],
      "metadata": {
        "id": "U2RJ9gkRphqQ"
      }
    },
    {
      "cell_type": "markdown",
      "source": [
        "Q10 Is their any correlation between the numerical columns of the dataset?"
      ],
      "metadata": {
        "id": "g6nd4Ll3yf7M"
      }
    },
    {
      "cell_type": "code",
      "source": [
        "\n",
        "# Create a colormap with vibrant colors\n",
        "cmap = sns.color_palette(\"coolwarm\", as_cmap=True)\n",
        "\n",
        "# Create a correlation matrix\n",
        "corr_matrix = dcop.corr()\n",
        "\n",
        "# Create a mask for the upper triangle to make it more visually appealing\n",
        "mask = np.triu(np.ones_like(corr_matrix, dtype=bool))\n",
        "\n",
        "# Set up the figure size and style\n",
        "plt.figure(figsize=(12, 8))\n",
        "sns.set_style(\"whitegrid\")\n",
        "\n",
        "# Create the heatmap with customized colors, annotations, and a title\n",
        "sns.heatmap(corr_matrix,\n",
        "            annot=True,            # Show correlation values\n",
        "            fmt=\".2f\",             # Format correlation values with two decimal places\n",
        "            cmap=cmap,             # Use the custom colormap\n",
        "            mask=mask,             # Apply the upper triangle mask\n",
        "            cbar=True,             # Show color bar\n",
        "            linewidths=0.5,        # Add linewidths between cells\n",
        "            square=True,            # Ensure a square aspect ratio\n",
        "            xticklabels=True,      # Show x-axis labels\n",
        "            yticklabels=True,      # Show y-axis labels\n",
        "            cbar_kws={\"shrink\": 0.75}  # Customize the color bar size\n",
        "           )\n",
        "\n",
        "# Add a title\n",
        "plt.title(\"Correlation Heatmap of Data\")\n",
        "\n",
        "# Show the plot\n",
        "plt.show()\n"
      ],
      "metadata": {
        "id": "GM7a4YP4phqQ"
      },
      "execution_count": null,
      "outputs": []
    },
    {
      "cell_type": "markdown",
      "source": [
        "##### 1. Why did you pick the specific chart?"
      ],
      "metadata": {
        "id": "1M8mcRywphqQ"
      }
    },
    {
      "cell_type": "markdown",
      "source": [
        "This chart was chosen to check the correlation between all numerical variables with each other. The heatmap allows graphical representation of the correlation between different columns."
      ],
      "metadata": {
        "id": "VCiikfD-zRd1"
      }
    },
    {
      "cell_type": "markdown",
      "source": [],
      "metadata": {
        "id": "8agQvks0phqQ"
      }
    },
    {
      "cell_type": "markdown",
      "source": [
        "##### 2. What is/are the insight(s) found from the chart?"
      ],
      "metadata": {
        "id": "tgIPom80phqQ"
      }
    },
    {
      "cell_type": "markdown",
      "source": [
        "Not much correlation was seen between the columns. Only number_of_reviews and review_last_month column showed a positive correlation of 0.55, rest all columns showed weak correlation"
      ],
      "metadata": {
        "id": "ZOh4oPKAzZH9"
      }
    },
    {
      "cell_type": "markdown",
      "source": [
        "##### 3. Will the gained insights help creating a positive business impact?\n",
        "Are there any insights that lead to negative growth? Justify with specific reason."
      ],
      "metadata": {
        "id": "JMzcOPDDphqR"
      }
    },
    {
      "cell_type": "markdown",
      "source": [
        "**Pricing Strategy Optimization:** Understanding correlations between numerical columns such as price, minimum nights, and number of reviews can help Airbnb optimize its pricing strategy. For example, if there is a positive correlation between price and the number of reviews, it may suggest that higher-priced listings tend to attract more reviews. Airbnb can use this information to adjust pricing strategies for hosts.\n",
        "\n",
        "**Host Guidance:** Airbnb can provide guidance to hosts based on correlations. For instance, if there's a negative correlation between minimum nights and occupancy rate, Airbnb can advise hosts to offer shorter minimum stays during peak booking periods to maximize occupancy.\n",
        "\n",
        "**User Experience Enhancement:** For guests, knowing the correlation between numerical columns can help in making informed decisions. If there is a correlation between the number of reviews and listing quality, guests can have more confidence in their choices.\n",
        "\n",
        "**Revenue Opportunities:** Correlations may reveal opportunities for hosts to maximize revenue. For example, if there is a positive correlation between the number of amenities offered and price, hosts may consider providing more amenities to justify higher rates."
      ],
      "metadata": {
        "id": "R4Ka1PC2phqR"
      }
    },
    {
      "cell_type": "code",
      "source": [],
      "metadata": {
        "id": "KlY9vZP8zMHv"
      },
      "execution_count": null,
      "outputs": []
    },
    {
      "cell_type": "markdown",
      "source": [],
      "metadata": {
        "id": "IWTMrJ5sSaqG"
      }
    },
    {
      "cell_type": "markdown",
      "source": [
        "#### Chart - 11 -MULTIVARIATE"
      ],
      "metadata": {
        "id": "x-EpHcCOp1ci"
      }
    },
    {
      "cell_type": "code",
      "source": [
        "\n",
        "# Pair Plot visualization code\n",
        "sns.pairplot(dcop)\n",
        "\n"
      ],
      "metadata": {
        "id": "mAQTIvtqp1cj"
      },
      "execution_count": null,
      "outputs": []
    },
    {
      "cell_type": "markdown",
      "source": [
        "##### 1. Why did you pick the specific chart?"
      ],
      "metadata": {
        "id": "X_VqEhTip1ck"
      }
    },
    {
      "cell_type": "markdown",
      "source": [
        "It is a distribution plot to show the marginal distribution of the data in each column. Hence this chart can show link between all columns with each other at a single line code."
      ],
      "metadata": {
        "id": "-vsMzt_np1ck"
      }
    },
    {
      "cell_type": "markdown",
      "source": [
        "##### 2. What is/are the insight(s) found from the chart?"
      ],
      "metadata": {
        "id": "8zGJKyg5p1ck"
      }
    },
    {
      "cell_type": "markdown",
      "source": [
        "The pair plots showed that their are no link between the columns and hence no important insight was concluded from this chart."
      ],
      "metadata": {
        "id": "ZYdMsrqVp1ck"
      }
    },
    {
      "cell_type": "markdown",
      "source": [
        "##### 3. Will the gained insights help creating a positive business impact?\n",
        "Are there any insights that lead to negative growth? Justify with specific reason."
      ],
      "metadata": {
        "id": "PVzmfK_Ep1ck"
      }
    },
    {
      "cell_type": "markdown",
      "source": [
        "Answer Here"
      ],
      "metadata": {
        "id": "druuKYZpp1ck"
      }
    },
    {
      "cell_type": "markdown",
      "source": [
        "#### Chart - 12"
      ],
      "metadata": {
        "id": "n3dbpmDWp1ck"
      }
    },
    {
      "cell_type": "markdown",
      "source": [
        "Q12. Find the top 5 rooms name in Brooklyn and Manhattan location and also find the area in which top 5 rooms are located.\n"
      ],
      "metadata": {
        "id": "S_0urWzJWHQM"
      }
    },
    {
      "cell_type": "code",
      "source": [
        "# Chart - 12 visualization code\n",
        "# here we find top 5 rooms and area located in top 2 location\n",
        "\n",
        "location_b = []\n",
        "rooms_b =[]\n",
        "location_m = []\n",
        "rooms_m =[]\n",
        "room_type_b = []\n",
        "room_type_m = []\n",
        "price_b = []\n",
        "price_m = []\n",
        "\n",
        "for index,row in dcop.iterrows():\n",
        "  #find the index which is equal to brooklyn index\n",
        "  if dcop.loc[index,'neighbourhood_group'] == 'Brooklyn':\n",
        "\n",
        "    #append the room name and area at particular index\n",
        "    location_b.append(dcop.loc[index,'neighbourhood'])\n",
        "    rooms_b.append(dcop.loc[index,'name'])\n",
        "    room_type_b.append(dcop.loc[index,'room_type'])\n",
        "    price_b.append(dcop.loc[index,'price'])\n",
        "\n",
        "#find the index which is equal to manhattan index\n",
        "  if dcop.loc[index,'neighbourhood_group'] == 'Manhattan':\n",
        "\n",
        "    #append the room name and area at particular index\n",
        "    location_m.append(dcop.loc[index,'neighbourhood'])\n",
        "    rooms_m.append(dcop.loc[index,'name'])\n",
        "    room_type_m.append(dcop.loc[index,'room_type'])\n",
        "    price_m.append(dcop.loc[index,'price'])\n",
        "\n"
      ],
      "metadata": {
        "id": "bwevp1tKp1ck"
      },
      "execution_count": null,
      "outputs": []
    },
    {
      "cell_type": "code",
      "source": [
        "#change the list into dataframe and name the columns in brooklyn location\n",
        "\n",
        "data_1_b = pd.DataFrame(rooms_b, columns =['Brooklyn Rooms'])\n",
        "data_2_b = pd.DataFrame(location_b, columns = ['Brooklyn Area'])\n",
        "data_3_b = pd.DataFrame(room_type_b, columns = ['Type of Room'])\n",
        "data_4_b = pd.DataFrame(price_b, columns = ['Price'])\n",
        "\n",
        "\n",
        "#change the list into dataframe and name the columns in Manhattan location\n",
        "\n",
        "data_1_m = pd.DataFrame(rooms_m, columns = ['Manhattan Rooms'])\n",
        "data_2_m = pd.DataFrame(location_m, columns = ['Manhattan Area'])\n",
        "data_3_m = pd.DataFrame(room_type_m, columns = ['Type of Room'])\n",
        "data_4_m = pd.DataFrame(price_m, columns = ['Price'])\n",
        "\n",
        "#concat the brooklyn rooms and area\n",
        "data_brooklyn = pd.concat([data_1_b,data_2_b,data_3_b,data_4_b],axis=1)\n",
        "\n",
        "#concat the Manhattan rooms and area\n",
        "data_manhattan = pd.concat([data_1_m,data_2_m,data_3_m,data_4_m],axis=1)\n"
      ],
      "metadata": {
        "id": "_sUyzbNLWlky"
      },
      "execution_count": null,
      "outputs": []
    },
    {
      "cell_type": "code",
      "source": [
        "dl_b = data_brooklyn.value_counts().head(5).reset_index()\n",
        "dl_b"
      ],
      "metadata": {
        "id": "wS3gbFalWqIv"
      },
      "execution_count": null,
      "outputs": []
    },
    {
      "cell_type": "markdown",
      "source": [
        "These five Rooms are frequently used by the customers in Brooklyn location. Here we also find that where are all these five rooms locate in Brooklyn location.\n",
        "The type of room which is most frequently used in Brooklyn is Entire home/apartments whose price is 199 dollar"
      ],
      "metadata": {
        "id": "Vsiy1s_tW77d"
      }
    },
    {
      "cell_type": "markdown",
      "source": [
        "## **5. Solution to Business Objective**"
      ],
      "metadata": {
        "id": "JcMwzZxoAimU"
      }
    },
    {
      "cell_type": "markdown",
      "source": [
        "#### What do you suggest the client to achieve Business Objective ?\n",
        "Explain Briefly."
      ],
      "metadata": {
        "id": "8G2x9gOozGDZ"
      }
    },
    {
      "cell_type": "markdown",
      "source": [
        "A client who wants to host his property on Airbnb should focus on listing the whole apartment and not just the shared rooms when it comes to listing his property.\n",
        "\n",
        "The hosts who own property in Manhattan and Brooklyn will be able to make the most profit, followed by the hosts who own property in Queens.\n",
        "\n",
        "In order to attract more customers, the client needs to keep the price within a range of 0 to 500.\n",
        "\n",
        "Most customers stay for a minimum of one to three nights. This means that the host should always ensure that the rooms are kept in a good condition in order to attract more and more positive reviews from customers.\n",
        "\n",
        "\n"
      ],
      "metadata": {
        "id": "i9Si88EAXNcF"
      }
    },
    {
      "cell_type": "markdown",
      "source": [
        "# **Conclusion**"
      ],
      "metadata": {
        "id": "gCX9965dhzqZ"
      }
    },
    {
      "cell_type": "markdown",
      "source": [
        "1-It has been observed that the customers at Air BNB are mostly interested in renting out entire homes or apartments.\n",
        "\n",
        "2-The most popular price range for the types of rooms is between 1 and 700 dollars, which is the range in which most customers prefer to stay.\n",
        "\n",
        "3 - The 2 top spots where a lot of customers come to shop are Brooklyn and Manhattan.\n",
        "\n",
        "4-The Brooklyn location is the location with the highest total number of reviews from the customers.\n",
        "\n",
        "5-There are the most rooms available by the host in Manhattan, so it is the most expensive.\n",
        "\n",
        "6-In terms of price, Manhattan is the most expensive location in the world\n",
        "\n",
        "7-There is one of the most frequently repeated locations by customers at the Box House Hotel in Greenpoint area in Brooklyn, which is the Loft Suite.\n",
        "\n",
        "8- IN MINT CONDITION-STUDIOS EAST 44TH/UNITED NATIONS in Midtown area in Manhattan location is most frequently repeated by the customers.\n",
        "9- Preferable rooms whose availability is 365 days has more chance to be rented\n",
        "10- No. of reviews does not impact the price of the rooms."
      ],
      "metadata": {
        "id": "Fjb1IsQkh3yE"
      }
    },
    {
      "cell_type": "markdown",
      "source": [
        "### ***Hurrah! You have successfully completed your EDA Capstone Project !!!***"
      ],
      "metadata": {
        "id": "gIfDvo9L0UH2"
      }
    }
  ]
}